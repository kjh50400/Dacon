{
 "cells": [
  {
   "cell_type": "markdown",
   "metadata": {},
   "source": [
    " - localP는 3 개의 그룹으로 나눌 수 있음\n",
    " - windV는 그래프의 x,y축 교차가 이상함. 단순한 프로그램상의 오류인지 아니면 데이터에 이상치가 있는지 확인 필요.\n",
    " - rain은 각 column 마다 확인 필요. 이것도 windV와 같이 축 교차 안함\n",
    " - solar는 X11과 X34만이 값을 지님. 나머지 column에 대해 왜 값이 0인지 고민 필요? 이것도 windV와 같이 축 교차 안함\n",
    " - humi는 기본적으로 rain과 관계 있을 것.\n",
    " - windD와 windV 묶어서 생각. 이것도 windV와 같이 축 교차 안함\n",
    " - sensor\\[0:5\\] 중 느낌이 다른 하나가 있음. 기본적으로 sensor 전체에 대한 heatmap을 살펴보는 것이 필요할 것으로 판단됨."
   ]
  },
  {
   "cell_type": "code",
   "execution_count": null,
   "metadata": {},
   "outputs": [],
   "source": []
  }
 ],
 "metadata": {
  "kernelspec": {
   "display_name": "Python 3",
   "language": "python",
   "name": "python3"
  },
  "language_info": {
   "codemirror_mode": {
    "name": "ipython",
    "version": 3
   },
   "file_extension": ".py",
   "mimetype": "text/x-python",
   "name": "python",
   "nbconvert_exporter": "python",
   "pygments_lexer": "ipython3",
   "version": "3.8.1"
  }
 },
 "nbformat": 4,
 "nbformat_minor": 4
}
